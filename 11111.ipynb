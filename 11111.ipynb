{
 "cells": [
  {
   "cell_type": "code",
   "execution_count": null,
   "id": "5b009ec7",
   "metadata": {},
   "outputs": [
    {
     "name": "stderr",
     "output_type": "stream",
     "text": [
      "D:\\Anaconda\\lib\\site-packages\\IPython\\core\\interactiveshell.py:3165: DtypeWarning: Columns (3) have mixed types.Specify dtype option on import or set low_memory=False.\n",
      "  has_raised = await self.run_ast_nodes(code_ast.body, cell_name,\n"
     ]
    }
   ],
   "source": [
    "import pandas as pd\n",
    "import numpy as np\n",
    "from sklearn.model_selection import  cross_val_score\n",
    "from sklearn.ensemble import RandomForestClassifier as RFC #导库\n",
    "data=pd.read_csv(\"E:/usertext/train.csv\") #读入数据\n",
    "test=pd.read_csv(\"E:/usertext/test.csv\")\n",
    "data.dropna(inplace=True)#删除空值\n",
    "data = data.drop_duplicates(keep=\"first\")\n",
    "\n",
    "def del_features(data):\n",
    "    for name in data.columns:\n",
    "        unique = data[name].unique().shape[0]\n",
    "        full = data[name].shape[0]\n",
    "        if (unique == 1) | (unique == full):\n",
    "            data = data.drop(name, axis=1)\n",
    "    return data\n",
    "del_features(data)\n",
    "data_target=data['bad_good']#保留data的标签，以免后面变动\n",
    "data.drop('bad_good',axis=1,inplace=True)#删除data的标签\n",
    "data=pd.concat([data,test],axis=0) #合并data和test\n",
    "data_num=data.select_dtypes(include=[np.number])#找出数字列\n",
    "data_non_num=data.select_dtypes(exclude=[np.number])#找出文本列\n",
    "data_non_numDf=pd.get_dummies(data_non_num)   #进行one-hot编码\n",
    "data_x=pd.concat([data,data_non_numDf],axis=1) #one-hot编码后数据\n",
    "\n",
    "data_x.drop(['IDF_TYP_CD', 'GENDER', 'CUST_EUP_ACCT_FLAG', 'CUST_AU_ACCT_FLAG', \n",
    "       'CUST_SALARY_FINANCIAL_FLAG', 'CUST_SOCIAL_SECURITYIC_FLAG',\n",
    "       'CUST_MTFLOW_FLAG', 'CUST_DOLLER_FLAG', 'CUST_INTERNATIONAL_GOLD_FLAG',\n",
    "       'CUST_INTERNATIONAL_COMMON_FLAG', 'CUST_INTERNATIONAL_SIL_FLAG',\n",
    "       'CUST_INTERNATIONAL_DIAMOND_FLAG', \n",
    "       'CUST_GOLD_COMMON_FLAG',\n",
    "       'CUST_STAD_PLATINUM_FLAG', \n",
    "       'CUST_LUXURY_PLATINUM_FLAG',\n",
    "       'CUST_PLATINUM_FINANCIAL_FLAG',\n",
    "       'CUST_DIAMOND_FLAG',\n",
    "       'CUST_INFINIT_FLAG',\n",
    "       'CUST_BUSINESS_FLAG',\n",
    "       'DEP_SA_FLAG',\n",
    "       'DEP_TD_FLAG',\n",
    "       'LOAN_FLAG', 'FUND_FLAG', 'C_FUND_FLAG', 'D_FUND_FLAG', 'S_FUND_FLAG',\n",
    "       'BOND_FLAG', 'CER_BOND_FLAG', 'BK_BOND_FLAG', 'CRED_FLAG',\n",
    "       'RELATED_REPAY_FLAG', 'TOT_REPAY_FLAG'],axis=1,inplace=True)#删除原文本列\n",
    "data_x.drop('CUST_ID',axis=1,inplace=True)#删除没意义CUST_ID列\n",
    "\n",
    "from sklearn.feature_selection import VarianceThreshold#删除方差为0的特征\n",
    "X_fsvar = VarianceThreshold().fit_transform(data_x)\n",
    "\n",
    "x_train=X_fsvar[0:285285,:] #提取train部分\n",
    "x_test=X_fsvar[285285:,:]\n",
    "\n",
    "from sklearn.model_selection import train_test_split\n",
    "\n",
    "# 划分数据集 三七分数据集\n",
    "x_train_local, x_test_local, y_train_local, y_test_local = train_test_split(\n",
    "    x_train, data_target, test_size=0.3\n",
    ")\n",
    "\n",
    "score=cross_val_score(RFC(n_estimators=100),x_train_local,y_train_local,cv=5).mean()\n",
    "\n",
    "x_test = test.drop([\"CUST_ID\"], axis=1)\n",
    "pred=RFC(n_estimators=100).fit(x_train_local,y_train_local).predict(x_text)#先跑个结果，上传下看看分数\n",
    "pred = pd.DataFrame(pred)\n",
    "pred[\"bad_good\"] = pred\n",
    "pred.drop(0, axis=1, inplace=True)\n",
    "sub = pd.concat([test[\"CUST_ID\"], pred], axis=1)\n",
    "sub.to_csv(\"E:/usertext/submission.csv\", index=0)\n",
    "\n"
   ]
  },
  {
   "cell_type": "code",
   "execution_count": null,
   "id": "531129e2",
   "metadata": {},
   "outputs": [],
   "source": []
  }
 ],
 "metadata": {
  "kernelspec": {
   "display_name": "Python 3",
   "language": "python",
   "name": "python3"
  },
  "language_info": {
   "codemirror_mode": {
    "name": "ipython",
    "version": 3
   },
   "file_extension": ".py",
   "mimetype": "text/x-python",
   "name": "python",
   "nbconvert_exporter": "python",
   "pygments_lexer": "ipython3",
   "version": "3.8.8"
  }
 },
 "nbformat": 4,
 "nbformat_minor": 5
}
